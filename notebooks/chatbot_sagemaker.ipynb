{
 "cells": [
  {
   "cell_type": "markdown",
   "id": "bbb7099a",
   "metadata": {},
   "source": [
    "\n",
    "# 🤖 SageBot – Interactive Chatbot on Amazon SageMaker\n",
    "\n",
    "Welcome to **SageBot**, a simple rule-based chatbot built using Python on Amazon SageMaker. This project demonstrates how to create an interactive loop that continuously accepts user input, processes it, and responds with appropriate or funny feedback — until the user types `quit` or `end`.\n",
    "\n",
    "---\n",
    "\n",
    "## ✅ Project Objectives\n",
    "- Create a chatbot that runs inside a SageMaker Jupyter Notebook\n",
    "- Simulate real-time AI interactions using rule-based responses\n",
    "- Structure project for future extension with machine learning or NLP models\n",
    "\n",
    "Let's get started! 👇\n"
   ]
  },
  {
   "cell_type": "code",
   "execution_count": null,
   "id": "a645be0b",
   "metadata": {},
   "outputs": [],
   "source": [
    "\n",
    "# Step 1: Import required libraries\n",
    "import random\n"
   ]
  },
  {
   "cell_type": "markdown",
   "id": "55b99a08",
   "metadata": {},
   "source": [
    "\n",
    "### 🧠 Define Chatbot Responses\n",
    "\n",
    "We'll define a dictionary of responses based on keywords, and a list of random fallback replies when no keyword matches.\n"
   ]
  },
  {
   "cell_type": "code",
   "execution_count": null,
   "id": "866ff314",
   "metadata": {},
   "outputs": [],
   "source": [
    "\n",
    "# Step 2: Define keyword-based responses and fallback replies\n",
    "\n",
    "responses = {\n",
    "    \"hello\": [\"Hi there!\", \"Hello! How can I assist you?\", \"Hey!\", \"Welcome!\"],\n",
    "    \"how are you\": [\"I'm functioning within normal parameters!\", \"Great, thank you!\"],\n",
    "    \"help\": [\"Sure, what do you need help with?\", \"I'm here to help!\"],\n",
    "    \"your name\": [\"I'm SageBot, your SageMaker assistant.\", \"You can call me SageBot.\"],\n",
    "    \"bye\": [\"Goodbye!\", \"Take care!\", \"Chat again soon!\"],\n",
    "    \"joke\": [\n",
    "        \"Why did the programmer quit his job? Because he didn’t get arrays!\",\n",
    "        \"I told my computer I needed a break... and it said 'no problem, I’ll go to sleep.'\"\n",
    "    ]\n",
    "}\n",
    "\n",
    "fallback_responses = [\n",
    "    \"Interesting!\", \"Can you tell me more?\", \"Hmm, I haven't learned that yet.\",\n",
    "    \"I'm not sure I understand.\", \"Let's talk about something else!\", \"That's cool!\"\n",
    "]\n"
   ]
  },
  {
   "cell_type": "markdown",
   "id": "e5f065dd",
   "metadata": {},
   "source": [
    "\n",
    "### 🔁 Chatbot Loop\n",
    "\n",
    "This loop continuously prompts the user for input, checks for known keywords, and gives responses.  \n",
    "Type `quit` or `end` to exit.\n"
   ]
  },
  {
   "cell_type": "code",
   "execution_count": null,
   "id": "4e443ccc",
   "metadata": {},
   "outputs": [],
   "source": [
    "\n",
    "# Step 3: Chat loop\n",
    "\n",
    "print(\"👋 Hello! I'm SageBot. Type 'quit' or 'end' to stop.\")\n",
    "\n",
    "while True:\n",
    "    user_input = input(\"You: \").lower()\n",
    "\n",
    "    if user_input in [\"quit\", \"end\"]:\n",
    "        print(\"SageBot: 👋 Bye! Have a great day!\")\n",
    "        break\n",
    "\n",
    "    matched = False\n",
    "    for keyword in responses:\n",
    "        if keyword in user_input:\n",
    "            print(\"SageBot:\", random.choice(responses[keyword]))\n",
    "            matched = True\n",
    "            break\n",
    "\n",
    "    if not matched:\n",
    "        print(\"SageBot:\", random.choice(fallback_responses))\n"
   ]
  },
  {
   "cell_type": "markdown",
   "id": "8f2f8567",
   "metadata": {},
   "source": [
    "\n",
    "## 🚀 What's Next?\n",
    "\n",
    "This is just the beginning! Here’s how you can extend this project:\n",
    "- 🔤 Replace rule-based logic with NLP (like HuggingFace Transformers)\n",
    "- ☁️ Deploy as an API using SageMaker Endpoint\n",
    "- 🌐 Connect the chatbot to a web UI or voice interface\n",
    "\n",
    "---\n",
    "\n",
    "Thank you for chatting with SageBot! 😄\n"
   ]
  }
 ],
 "metadata": {},
 "nbformat": 4,
 "nbformat_minor": 5
}